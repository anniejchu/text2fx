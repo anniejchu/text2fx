{
 "cells": [
  {
   "cell_type": "code",
   "execution_count": 5,
   "id": "026ca0e3-b769-4457-b69d-0d5f56583cee",
   "metadata": {},
   "outputs": [
    {
     "name": "stdout",
     "output_type": "stream",
     "text": [
      "True True\n"
     ]
    }
   ],
   "source": [
    "import os\n",
    "from pathlib import Path\n",
    "\n",
    "import numpy as np\n",
    "import audiotools\n",
    "import auraloss\n",
    "# import laion_clap\n",
    "import pandas as pd\n",
    "from audiotools import AudioSignal\n",
    "\n",
    "import matplotlib.pyplot as plt\n",
    "\n",
    "import helper\n",
    "\n",
    "# dir(helper)\n",
    "\n",
    "NOTEBOOKS_DIR = Path(os.path.abspath(''))\n",
    "PROJECT_DIR = NOTEBOOKS_DIR.parent\n",
    "ASSETS_DIR = PROJECT_DIR / \"assets\"\n",
    "PRETRAINED_DIR = PROJECT_DIR / \"pretrained\"\n",
    "DATA_DIR = PROJECT_DIR / \"data\"\n",
    "RUNS_DIR = PROJECT_DIR / \"runs\"\n",
    "EXPERIMENTS_DIR = PROJECT_DIR / \"experiments\"\n",
    "\n",
    "AUDIO_SAMPLES_DIR = ASSETS_DIR / \"multistem_examples\"\n",
    "MULTISTEM_EXP_DIR = EXPERIMENTS_DIR / \"multistem_test\"\n",
    "\n",
    "\n",
    "print(AUDIO_SAMPLES_DIR.exists(),MULTISTEM_EXP_DIR.exists())"
   ]
  },
  {
   "cell_type": "markdown",
   "id": "5dc7c4fc-30c6-4985-9fbe-3950a8f24b9c",
   "metadata": {},
   "source": [
    "### Loading Audealize Info "
   ]
  },
  {
   "cell_type": "code",
   "execution_count": 2,
   "id": "b292b00e-f265-48a9-a8c3-767dde7f6f7e",
   "metadata": {},
   "outputs": [],
   "source": [
    "# Load JSON data Audealize API word <> EQ gain values\n",
    "file_path = '/home/annie/research/text2fx/notebooks/audealize_data/eqdescriptors.json'\n",
    "top10_eq = [\"warm\", \"cold\", \"soft\", \"loud\", \"happy\", \"bright\", \"soothing\", \"harsh\", \"heavy\", \"cool\"]\n",
    "settings_dict = helper.get_settings_for_words(file_path, top10_eq)\n",
    "\n",
    "# Zipping (frequency bands, gain vals) in dictionary\n",
    "freq_bands = [20, 50, 83, 120, 161, 208, 259, 318, 383, 455, 537, 628, 729, 843, 971, \n",
    "              1114, 1273, 1452, 1652, 1875, 2126, 2406, 2719, 3070, 3462, 3901, \n",
    "              4392, 4941, 5556, 6244, 7014, 7875, 8839, 9917, 11124, 12474, 13984, \n",
    "              15675, 17566, 19682]\n",
    "\n",
    "converted_settings_dict = helper.convert_to_freq_gain_tuples(settings_dict, freq_bands)\n",
    "\n",
    "# Converting all parameters into tensors\n",
    "tensor_settings = helper.convert_to_tensors(converted_settings_dict)"
   ]
  },
  {
   "cell_type": "code",
   "execution_count": 6,
   "id": "3ab1e8ec-006a-44a4-836e-a8244758b3a1",
   "metadata": {},
   "outputs": [
    {
     "data": {
      "text/plain": [
       "True"
      ]
     },
     "execution_count": 6,
     "metadata": {},
     "output_type": "execute_result"
    }
   ],
   "source": [
    "# Genereting Gnd Truth Samples: EQed versions via dasp + audealize 40 band paramEQ\n",
    "all_audio_samples = sorted(helper.load_examples(AUDIO_SAMPLES_DIR), key=lambda sample: Path(sample).name)\n",
    "gnd_truth_export_dir = MULTISTEM_EXP_DIR / \"ground_truth\"\n",
    "gnd_truth_export_dir.exists()\n",
    "\n",
    "#uncomment to generate gnd truth examples\n",
    "# for idx, audio_sample in enumerate(all_audio_samples):\n",
    "#     helper.apply_export_EQ(tensor_settings, audio_sample, gnd_truth_export_dir)"
   ]
  },
  {
   "cell_type": "code",
   "execution_count": null,
   "id": "d4aa32e6-7507-482e-a504-75d4e4c11a06",
   "metadata": {},
   "outputs": [],
   "source": [
    "    "
   ]
  },
  {
   "cell_type": "code",
   "execution_count": null,
   "id": "b31b57f8-f185-400e-9277-70a30cbe8168",
   "metadata": {},
   "outputs": [],
   "source": []
  }
 ],
 "metadata": {
  "kernelspec": {
   "display_name": "text2fx",
   "language": "python",
   "name": "text2fx"
  },
  "language_info": {
   "codemirror_mode": {
    "name": "ipython",
    "version": 3
   },
   "file_extension": ".py",
   "mimetype": "text/x-python",
   "name": "python",
   "nbconvert_exporter": "python",
   "pygments_lexer": "ipython3",
   "version": "3.9.7"
  }
 },
 "nbformat": 4,
 "nbformat_minor": 5
}
