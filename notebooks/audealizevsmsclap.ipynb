{
 "cells": [
  {
   "cell_type": "code",
   "execution_count": 20,
   "id": "d445e0c7-a27e-4e83-9515-4ce2374df4ec",
   "metadata": {},
   "outputs": [],
   "source": [
    "import os\n",
    "from pathlib import Path\n",
    "import requests\n",
    "from tqdm import tqdm\n",
    "from typing import Union, List\n",
    "\n",
    "import math\n",
    "import torch\n",
    "import numpy as np\n",
    "import audiotools\n",
    "import dasp_pytorch\n",
    "import auraloss\n",
    "# import laion_clap\n",
    "from audiotools import AudioSignal\n",
    "\n",
    "from transformers import BertForMaskedLM\n",
    "\n",
    "from scipy import signal\n",
    "import matplotlib.pyplot as plt\n",
    "\n",
    "import helper"
   ]
  },
  {
   "cell_type": "code",
   "execution_count": 21,
   "id": "92413cdc-e88d-4535-85d5-e27e99aeeb1f",
   "metadata": {},
   "outputs": [
    {
     "name": "stdout",
     "output_type": "stream",
     "text": [
      "/home/annie/research/text2fx/assets\n"
     ]
    }
   ],
   "source": [
    "NOTEBOOKS_DIR = Path(os.path.abspath(''))\n",
    "PROJECT_DIR = NOTEBOOKS_DIR.parent\n",
    "ASSETS_DIR = PROJECT_DIR / \"assets\"\n",
    "PRETRAINED_DIR = PROJECT_DIR / \"pretrained\"\n",
    "DATA_DIR = PROJECT_DIR / \"data\"\n",
    "RUNS_DIR = PROJECT_DIR / \"runs\"\n",
    "EXPERIMENTS_DIR = PROJECT_DIR / \"experiments\"\n",
    "EXP_AUDEALIZE_DIR = EXPERIMENTS_DIR / \"audealize_comp\"\n",
    "print(ASSETS_DIR)"
   ]
  },
  {
   "cell_type": "markdown",
   "id": "567881bb-2cfc-4e80-b6f2-781b93164c71",
   "metadata": {},
   "source": [
    "#### Audealize Gnd truth"
   ]
  },
  {
   "cell_type": "code",
   "execution_count": 22,
   "id": "e5d2e333-cc22-4163-941a-0999acac4494",
   "metadata": {},
   "outputs": [
    {
     "name": "stdout",
     "output_type": "stream",
     "text": [
      "[(20, -0.580513251356788), (50, -0.6834067987276559), (83, -0.773504222665684), (120, -0.7826239592385814), (161, -0.7345700959971675), (208, -0.6566334764439306), (259, -0.5653233608770033), (318, -0.4836950058455057), (383, -0.36607153040596346), (455, -0.21076646565785281), (537, -0.024685418825977225), (628, 0.13490708566568516), (729, 0.24364537837196318), (843, 0.2919493430840968), (971, 0.306169237514744), (1114, 0.3154850504552722), (1273, 0.34026806742471727), (1452, 0.3780090357874527), (1652, 0.4000209159215504), (1875, 0.42316115382137015), (2126, 0.43181439731447013), (2406, 0.4080766047517407), (2719, 0.3790977075339527), (3070, 0.3540513947136643), (3462, 0.3267412208869599), (3901, 0.2654396716724671), (4392, 0.18942117677235806), (4941, 0.13958471969901018), (5556, 0.12210507502213225), (6244, 0.11130983306709169), (7014, 0.10873017389381907), (7875, 0.1109628696217952), (8839, 0.08195184335636668), (9917, 0.004477092398627467), (11124, -0.06096913507489133), (12474, -0.0749335554146176), (13984, -0.01984396681126503), (15675, 0.036716896277303734), (17566, 0.06493766901414616), (19682, 0.048506629300125864)]\n",
      "[(tensor([20]), tensor([-0.5805])), (tensor([50]), tensor([-0.6834])), (tensor([83]), tensor([-0.7735])), (tensor([120]), tensor([-0.7826])), (tensor([161]), tensor([-0.7346])), (tensor([208]), tensor([-0.6566])), (tensor([259]), tensor([-0.5653])), (tensor([318]), tensor([-0.4837])), (tensor([383]), tensor([-0.3661])), (tensor([455]), tensor([-0.2108])), (tensor([537]), tensor([-0.0247])), (tensor([628]), tensor([0.1349])), (tensor([729]), tensor([0.2436])), (tensor([843]), tensor([0.2919])), (tensor([971]), tensor([0.3062])), (tensor([1114]), tensor([0.3155])), (tensor([1273]), tensor([0.3403])), (tensor([1452]), tensor([0.3780])), (tensor([1652]), tensor([0.4000])), (tensor([1875]), tensor([0.4232])), (tensor([2126]), tensor([0.4318])), (tensor([2406]), tensor([0.4081])), (tensor([2719]), tensor([0.3791])), (tensor([3070]), tensor([0.3541])), (tensor([3462]), tensor([0.3267])), (tensor([3901]), tensor([0.2654])), (tensor([4392]), tensor([0.1894])), (tensor([4941]), tensor([0.1396])), (tensor([5556]), tensor([0.1221])), (tensor([6244]), tensor([0.1113])), (tensor([7014]), tensor([0.1087])), (tensor([7875]), tensor([0.1110])), (tensor([8839]), tensor([0.0820])), (tensor([9917]), tensor([0.0045])), (tensor([11124]), tensor([-0.0610])), (tensor([12474]), tensor([-0.0749])), (tensor([13984]), tensor([-0.0198])), (tensor([15675]), tensor([0.0367])), (tensor([17566]), tensor([0.0649])), (tensor([19682]), tensor([0.0485]))]\n"
     ]
    }
   ],
   "source": [
    "# Load JSON data Audealize API word <> EQ settings\n",
    "file_path = '/home/annie/research/text2fx/notebooks/audealize_data/eqdescriptors.json'\n",
    "top10_eq = [\"warm\", \"cold\", \"soft\", \"loud\", \"happy\", \"bright\", \"soothing\", \"harsh\", \"heavy\", \"cool\"]\n",
    "settings_dict = helper.get_settings_for_words(file_path, top10_eq)\n",
    "# print(settings_dict['cool'])\n",
    "\n",
    "freq_bands = [20, 50, 83, 120, 161, 208, 259, 318, 383, 455, 537, 628, 729, 843, 971, \n",
    "              1114, 1273, 1452, 1652, 1875, 2126, 2406, 2719, 3070, 3462, 3901, \n",
    "              4392, 4941, 5556, 6244, 7014, 7875, 8839, 9917, 11124, 12474, 13984, \n",
    "              15675, 17566, 19682]\n",
    "\n",
    "converted_settings_dict = helper.convert_to_freq_gain_tuples(settings_dict, freq_bands)\n",
    "print(converted_settings_dict['cold'])\n",
    "\n",
    "# Example usage:\n",
    "# Assuming `converted_settings` is already defined\n",
    "tensor_settings = helper.convert_to_tensors(converted_settings_dict)\n",
    "print(tensor_settings['cold'])"
   ]
  },
  {
   "cell_type": "code",
   "execution_count": 23,
   "id": "308af542-5baa-44e9-8800-9e3cdf2cba68",
   "metadata": {},
   "outputs": [
    {
     "name": "stdout",
     "output_type": "stream",
     "text": [
      "/home/annie/research/text2fx/assets/audealize_examples/piano.wav\n"
     ]
    }
   ],
   "source": [
    "# Loading audealize ground truth files\n",
    "input_raw_piano = helper.load_and_find_path_with_keyword(ASSETS_DIR, [\"piano\"], returnSingle=True)\n",
    "input_raw_drums = helper.load_and_find_path_with_keyword(ASSETS_DIR, [\"drums\"], returnSingle=True)\n",
    "input_raw_speech = helper.load_and_find_path_with_keyword(ASSETS_DIR, [\"225\"], returnSingle=True)\n",
    "\n",
    "print(input_raw_piano)"
   ]
  },
  {
   "cell_type": "code",
   "execution_count": 28,
   "id": "acd84f29-4ce5-465d-a5c0-584dee79bbe7",
   "metadata": {},
   "outputs": [],
   "source": [
    "EXPORT_EXAMPLES_DIR = Path(EXP_AUDEALIZE_DIR / \"audealize_version\")"
   ]
  },
  {
   "cell_type": "code",
   "execution_count": 30,
   "id": "7a0cd68e-be35-4343-a459-3289aeda0144",
   "metadata": {},
   "outputs": [
    {
     "name": "stdout",
     "output_type": "stream",
     "text": [
      "clean signal...\n",
      "saving warm\n",
      "saving cold\n",
      "saving soft\n",
      "saving loud\n",
      "saving happy\n",
      "saving bright\n",
      "saving soothing\n",
      "saving harsh\n",
      "saving heavy\n",
      "saving cool\n"
     ]
    }
   ],
   "source": [
    "# Original Input\n",
    "audio_type = \"speech\"\n",
    "\n",
    "#loading clean file\n",
    "input_raw= helper.load_and_find_path_with_keyword(ASSETS_DIR, [audio_type], returnSingle=True)\n",
    "input_sig = AudioSignal(input_raw).to_mono()\n",
    "\n",
    "# generating output files\n",
    "for word, freq_gains in tensor_settings.items():\n",
    "    filtered_sig = helper.dasp_apply_multiple_filters_file(input_raw, freq_gains)\n",
    "    filter_out = AudioSignal(filtered_sig,input_sig.sample_rate)\n",
    "    print(f'saving {word}')\n",
    "\n",
    "    EXPORT_EX_DIR = Path(EXPORT_EXAMPLES_DIR / f\"{audio_type}\")\n",
    "    EXPORT_EX_DIR.mkdir(exist_ok=True)\n",
    "\n",
    "    filter_out.write(Path(EXPORT_EX_DIR, f\"{word}.wav\"))\n"
   ]
  },
  {
   "cell_type": "code",
   "execution_count": null,
   "id": "ea199ff6-728f-4474-95c0-27ca5ab598f5",
   "metadata": {},
   "outputs": [],
   "source": [
    "\n"
   ]
  }
 ],
 "metadata": {
  "kernelspec": {
   "display_name": "text2fx",
   "language": "python",
   "name": "text2fx"
  },
  "language_info": {
   "codemirror_mode": {
    "name": "ipython",
    "version": 3
   },
   "file_extension": ".py",
   "mimetype": "text/x-python",
   "name": "python",
   "nbconvert_exporter": "python",
   "pygments_lexer": "ipython3",
   "version": "3.9.7"
  }
 },
 "nbformat": 4,
 "nbformat_minor": 5
}
